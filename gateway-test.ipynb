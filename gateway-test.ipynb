{
 "cells": [
  {
   "cell_type": "code",
   "execution_count": null,
   "id": "ad3fecef-7d2f-4d4e-9045-dcedc0d3432e",
   "metadata": {},
   "outputs": [],
   "source": [
    "!pip install grpcio tensorflow-serving-api==2.14.1\n",
    "!pip install git+https://github.com/antisoupbarrier/keras-image-helper.git"
   ]
  },
  {
   "cell_type": "code",
   "execution_count": 2,
   "id": "c358bc85-4663-4c9d-bc00-e93eb0a1a324",
   "metadata": {},
   "outputs": [],
   "source": [
    "import grpc\n",
    "import tensorflow as tf\n",
    "from tensorflow_serving.apis import predict_pb2\n",
    "from tensorflow_serving.apis import prediction_service_pb2_grpc"
   ]
  },
  {
   "cell_type": "code",
   "execution_count": 3,
   "id": "1c27debf-9858-4a87-abcb-31c51e494d56",
   "metadata": {},
   "outputs": [],
   "source": [
    "host = 'localhost:8500'\n",
    "channel = grpc.insecure_channel(host)\n",
    "stub = prediction_service_pb2_grpc.PredictionServiceStub(channel)"
   ]
  },
  {
   "cell_type": "code",
   "execution_count": 4,
   "id": "63dd9eb7-881e-40dd-bec9-688e14bd62e5",
   "metadata": {},
   "outputs": [],
   "source": [
    "from keras_image_helper import create_preprocessor\n",
    "\n",
    "preprocessor = create_preprocessor('densenet', target_size=(150, 150))\n",
    "url = 'https://upload.wikimedia.org/wikipedia/commons/thumb/6/6f/Purple-Iris_pn.jpg/1200px-Purple-Iris_pn.jpg'\n",
    "X = preprocessor.from_url(url)"
   ]
  },
  {
   "cell_type": "code",
   "execution_count": null,
   "id": "33d0a0f2-7f1b-43e7-b4dd-56ef725f10fe",
   "metadata": {},
   "outputs": [],
   "source": [
    "def np_to_protobuf(data):\n",
    "    return tf.make_tensor_proto(data, shape=data.shape)\n",
    "\n",
    "pb_request = predict_pb2.PredictRequest()\n",
    "pb_request.model_spec.name = 'flower-model'\n",
    "pb_request.model_spec.signature_name = 'serving_default'\n",
    "pb_request.inputs['input_2'].CopyFrom(np_to_protobuf(X))"
   ]
  },
  {
   "cell_type": "code",
   "execution_count": 13,
   "id": "21d0fbf5-09e7-4ea1-b1e6-c59a1661b722",
   "metadata": {},
   "outputs": [],
   "source": [
    "pb_response = stub.Predict(pb_request, timeout=20.0)\n",
    "\n",
    "preds = pb_response.outputs['dense_5'].float_val"
   ]
  },
  {
   "cell_type": "code",
   "execution_count": 11,
   "id": "e0ba7315-12f0-4a03-b6c4-8d1f0993f7bd",
   "metadata": {},
   "outputs": [],
   "source": [
    "classes = ['california_poppy',\n",
    " 'iris',\n",
    " 'magnolia',\n",
    " 'bellflower',\n",
    " 'astilbe',\n",
    " 'water_lily',\n",
    " 'dandelion',\n",
    " 'sunflower',\n",
    " 'calendula',\n",
    " 'common_daisy',\n",
    " 'tulip',\n",
    " 'black_eyed_susan',\n",
    " 'coreopsis',\n",
    " 'carnation',\n",
    " 'daffodil',\n",
    " 'rose']"
   ]
  },
  {
   "cell_type": "code",
   "execution_count": 14,
   "id": "6fd3e02a-3ce8-43fe-b31d-6413892de6d7",
   "metadata": {},
   "outputs": [
    {
     "data": {
      "text/plain": [
       "{'california_poppy': 5.542286544368835e-06,\n",
       " 'iris': 0.9989344477653503,\n",
       " 'magnolia': 7.022139470791444e-06,\n",
       " 'bellflower': 0.0009966477518901229,\n",
       " 'astilbe': 1.5793312968526152e-06,\n",
       " 'water_lily': 4.4488759158411995e-05,\n",
       " 'dandelion': 3.195451370174851e-07,\n",
       " 'sunflower': 3.99708397935683e-07,\n",
       " 'calendula': 3.1259132811101153e-06,\n",
       " 'common_daisy': 2.6688707066568895e-07,\n",
       " 'tulip': 2.4865369141480187e-07,\n",
       " 'black_eyed_susan': 1.3982562663272802e-08,\n",
       " 'coreopsis': 7.071314644946369e-09,\n",
       " 'carnation': 7.318598136407672e-07,\n",
       " 'daffodil': 7.023081138868292e-07,\n",
       " 'rose': 4.407945652928902e-06}"
      ]
     },
     "execution_count": 14,
     "metadata": {},
     "output_type": "execute_result"
    }
   ],
   "source": [
    "dict(zip(classes, preds))"
   ]
  },
  {
   "cell_type": "code",
   "execution_count": null,
   "id": "22202fcc-1faf-4fc2-9c9b-d78c14a02a59",
   "metadata": {},
   "outputs": [],
   "source": []
  }
 ],
 "metadata": {
  "kernelspec": {
   "display_name": "Python 3 (ipykernel)",
   "language": "python",
   "name": "python3"
  },
  "language_info": {
   "codemirror_mode": {
    "name": "ipython",
    "version": 3
   },
   "file_extension": ".py",
   "mimetype": "text/x-python",
   "name": "python",
   "nbconvert_exporter": "python",
   "pygments_lexer": "ipython3",
   "version": "3.8.18"
  }
 },
 "nbformat": 4,
 "nbformat_minor": 5
}
