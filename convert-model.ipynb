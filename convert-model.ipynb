{
 "cells": [
  {
   "cell_type": "code",
   "execution_count": 1,
   "id": "f4048bd2-5ec2-48ad-8de5-c51b6ef618ac",
   "metadata": {},
   "outputs": [
    {
     "name": "stderr",
     "output_type": "stream",
     "text": [
      "2024-01-17 21:35:57.353449: I tensorflow/core/util/port.cc:113] oneDNN custom operations are on. You may see slightly different numerical results due to floating-point round-off errors from different computation orders. To turn them off, set the environment variable `TF_ENABLE_ONEDNN_OPTS=0`.\n",
      "2024-01-17 21:35:57.406792: E external/local_xla/xla/stream_executor/cuda/cuda_dnn.cc:9261] Unable to register cuDNN factory: Attempting to register factory for plugin cuDNN when one has already been registered\n",
      "2024-01-17 21:35:57.406829: E external/local_xla/xla/stream_executor/cuda/cuda_fft.cc:607] Unable to register cuFFT factory: Attempting to register factory for plugin cuFFT when one has already been registered\n",
      "2024-01-17 21:35:57.408117: E external/local_xla/xla/stream_executor/cuda/cuda_blas.cc:1515] Unable to register cuBLAS factory: Attempting to register factory for plugin cuBLAS when one has already been registered\n",
      "2024-01-17 21:35:57.416628: I tensorflow/core/platform/cpu_feature_guard.cc:182] This TensorFlow binary is optimized to use available CPU instructions in performance-critical operations.\n",
      "To enable the following instructions: AVX2 AVX512F AVX512_VNNI FMA, in other operations, rebuild TensorFlow with the appropriate compiler flags.\n",
      "2024-01-17 21:35:58.321939: W tensorflow/compiler/tf2tensorrt/utils/py_utils.cc:38] TF-TRT Warning: Could not find TensorRT\n"
     ]
    }
   ],
   "source": [
    "import os\n",
    "import tensorflow as tf\n",
    "from tensorflow import keras\n",
    "from keras import backend as K"
   ]
  },
  {
   "cell_type": "code",
   "execution_count": 2,
   "id": "a6dd1449-12a8-47da-8a23-d1776a7bdf78",
   "metadata": {},
   "outputs": [],
   "source": [
    "os.environ['TF_GPU_ALLOCATOR'] = 'cuda_malloc_async'"
   ]
  },
  {
   "cell_type": "code",
   "execution_count": 3,
   "id": "05a3ba34-aa99-4636-953a-d3f41cef8e50",
   "metadata": {},
   "outputs": [],
   "source": [
    "K.clear_session()"
   ]
  },
  {
   "cell_type": "code",
   "execution_count": 6,
   "id": "39a233c2-fe96-4438-b52f-fa8caef56c3a",
   "metadata": {},
   "outputs": [],
   "source": [
    "model = keras.saving.load_model('densenet201_v3_15_0.913.h5')"
   ]
  },
  {
   "cell_type": "markdown",
   "id": "fbe7e930-5498-4630-88f3-42e7caf3a1ee",
   "metadata": {},
   "source": [
    "## Convert to tflite model"
   ]
  },
  {
   "cell_type": "code",
   "execution_count": 7,
   "id": "5669ba5a-6599-4aea-8cac-6f230e35d7ff",
   "metadata": {},
   "outputs": [],
   "source": [
    "converter = tf.lite.TFLiteConverter.from_keras_model(model)\n",
    "converter.optimizations = [tf.lite.Optimize.DEFAULT]"
   ]
  },
  {
   "cell_type": "code",
   "execution_count": 8,
   "id": "82327784-bd5d-407c-987a-e8e3dea5c77a",
   "metadata": {},
   "outputs": [
    {
     "name": "stdout",
     "output_type": "stream",
     "text": [
      "INFO:tensorflow:Assets written to: /tmp/tmp96lf0ty2/assets\n"
     ]
    },
    {
     "name": "stderr",
     "output_type": "stream",
     "text": [
      "INFO:tensorflow:Assets written to: /tmp/tmp96lf0ty2/assets\n",
      "2024-01-17 21:38:21.944326: W tensorflow/compiler/mlir/lite/python/tf_tfl_flatbuffer_helpers.cc:378] Ignored output_format.\n",
      "2024-01-17 21:38:21.944354: W tensorflow/compiler/mlir/lite/python/tf_tfl_flatbuffer_helpers.cc:381] Ignored drop_control_dependency.\n",
      "2024-01-17 21:38:21.945165: I tensorflow/cc/saved_model/reader.cc:83] Reading SavedModel from: /tmp/tmp96lf0ty2\n",
      "2024-01-17 21:38:22.028676: I tensorflow/cc/saved_model/reader.cc:51] Reading meta graph with tags { serve }\n",
      "2024-01-17 21:38:22.028748: I tensorflow/cc/saved_model/reader.cc:146] Reading SavedModel debug info (if present) from: /tmp/tmp96lf0ty2\n",
      "2024-01-17 21:38:22.182680: I tensorflow/compiler/mlir/mlir_graph_optimization_pass.cc:388] MLIR V1 optimization pass is not enabled\n",
      "2024-01-17 21:38:22.280326: I tensorflow/cc/saved_model/loader.cc:233] Restoring SavedModel bundle.\n",
      "2024-01-17 21:38:24.713519: I tensorflow/cc/saved_model/loader.cc:217] Running initialization op on SavedModel bundle at path: /tmp/tmp96lf0ty2\n",
      "2024-01-17 21:38:25.478028: I tensorflow/cc/saved_model/loader.cc:316] SavedModel load for tags { serve }; Status: success: OK. Took 3532863 microseconds.\n",
      "2024-01-17 21:38:26.251305: I tensorflow/compiler/mlir/tensorflow/utils/dump_mlir_util.cc:269] disabling MLIR crash reproducer, set env var `MLIR_CRASH_REPRODUCER_DIRECTORY` to enable.\n",
      "Summary on the non-converted ops:\n",
      "---------------------------------\n",
      " * Accepted dialects: tfl, builtin, func\n",
      " * Non-Converted Ops: 315, Total Ops 1037, % non-converted = 30.38 %\n",
      " * 315 ARITH ops\n",
      "\n",
      "- arith.constant:  315 occurrences  (f32: 312, i32: 3)\n",
      "\n",
      "\n",
      "\n",
      "  (f32: 102)\n",
      "  (f32: 3)\n",
      "  (f32: 98)\n",
      "  (f32: 200)\n",
      "  (f32: 4)\n",
      "  (f32: 1)\n",
      "  (f32: 103)\n",
      "  (f32: 2)\n",
      "  (uq_8: 204)\n",
      "  (f32: 1)\n",
      "  (f32: 1)\n"
     ]
    }
   ],
   "source": [
    "tflite_model = converter.convert()"
   ]
  },
  {
   "cell_type": "code",
   "execution_count": 9,
   "id": "c7bb380e-576c-41b8-8d5b-51a6a52cccdc",
   "metadata": {},
   "outputs": [],
   "source": [
    "with open('flower-model-dn201-v3-913.tflite', 'wb') as f_out:\n",
    "    f_out.write(tflite_model)"
   ]
  },
  {
   "cell_type": "markdown",
   "id": "b058c0b2-64d7-412d-a3c9-0864efe683d8",
   "metadata": {},
   "source": [
    "## Saved Model Format"
   ]
  },
  {
   "cell_type": "code",
   "execution_count": null,
   "id": "f32b808f-1e4f-4695-8335-1e3130028c6d",
   "metadata": {},
   "outputs": [],
   "source": [
    "# Use this to convert .h5 model to saved model format\n",
    "tf.saved_model.save(model, 'flower-model')"
   ]
  },
  {
   "cell_type": "code",
   "execution_count": null,
   "id": "23594ab7-f7ca-4d1c-a6a5-c6640cd18cfa",
   "metadata": {},
   "outputs": [],
   "source": []
  }
 ],
 "metadata": {
  "kernelspec": {
   "display_name": "Python 3 (ipykernel)",
   "language": "python",
   "name": "python3"
  },
  "language_info": {
   "codemirror_mode": {
    "name": "ipython",
    "version": 3
   },
   "file_extension": ".py",
   "mimetype": "text/x-python",
   "name": "python",
   "nbconvert_exporter": "python",
   "pygments_lexer": "ipython3",
   "version": "3.8.18"
  }
 },
 "nbformat": 4,
 "nbformat_minor": 5
}
